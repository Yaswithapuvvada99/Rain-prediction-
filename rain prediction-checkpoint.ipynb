{
 "cells": [
  {
   "cell_type": "markdown",
   "id": "a6269ebe",
   "metadata": {},
   "source": [
    "# Prediction of RainFall"
   ]
  },
  {
   "cell_type": "markdown",
   "id": "747024c1",
   "metadata": {},
   "source": [
    "### Importing necessary libraries"
   ]
  },
  {
   "cell_type": "code",
   "execution_count": 1,
   "id": "d6c0b582",
   "metadata": {},
   "outputs": [],
   "source": [
    "import numpy as np\n",
    "import pandas as pd\n",
    "import matplotlib.pyplot as plt\n"
   ]
  },
  {
   "cell_type": "markdown",
   "id": "f6b7798e",
   "metadata": {},
   "source": [
    "### importing data"
   ]
  },
  {
   "cell_type": "code",
   "execution_count": 2,
   "id": "f5bc4cf5",
   "metadata": {},
   "outputs": [
    {
     "data": {
      "text/html": [
       "<div>\n",
       "<style scoped>\n",
       "    .dataframe tbody tr th:only-of-type {\n",
       "        vertical-align: middle;\n",
       "    }\n",
       "\n",
       "    .dataframe tbody tr th {\n",
       "        vertical-align: top;\n",
       "    }\n",
       "\n",
       "    .dataframe thead th {\n",
       "        text-align: right;\n",
       "    }\n",
       "</style>\n",
       "<table border=\"1\" class=\"dataframe\">\n",
       "  <thead>\n",
       "    <tr style=\"text-align: right;\">\n",
       "      <th></th>\n",
       "      <th>Date</th>\n",
       "      <th>Location</th>\n",
       "      <th>MinTemp</th>\n",
       "      <th>MaxTemp</th>\n",
       "      <th>Rainfall</th>\n",
       "      <th>Evaporation</th>\n",
       "      <th>Sunshine</th>\n",
       "      <th>WindGustDir</th>\n",
       "      <th>WindGustSpeed</th>\n",
       "      <th>WindDir9am</th>\n",
       "      <th>...</th>\n",
       "      <th>Humidity9am</th>\n",
       "      <th>Humidity3pm</th>\n",
       "      <th>Pressure9am</th>\n",
       "      <th>Pressure3pm</th>\n",
       "      <th>Cloud9am</th>\n",
       "      <th>Cloud3pm</th>\n",
       "      <th>Temp9am</th>\n",
       "      <th>Temp3pm</th>\n",
       "      <th>RainToday</th>\n",
       "      <th>RainTomorrow</th>\n",
       "    </tr>\n",
       "  </thead>\n",
       "  <tbody>\n",
       "    <tr>\n",
       "      <th>0</th>\n",
       "      <td>01-12-2008</td>\n",
       "      <td>Albury</td>\n",
       "      <td>13.4</td>\n",
       "      <td>22.9</td>\n",
       "      <td>0.6</td>\n",
       "      <td>NaN</td>\n",
       "      <td>NaN</td>\n",
       "      <td>W</td>\n",
       "      <td>44.0</td>\n",
       "      <td>W</td>\n",
       "      <td>...</td>\n",
       "      <td>71.0</td>\n",
       "      <td>22.0</td>\n",
       "      <td>1007.7</td>\n",
       "      <td>1007.1</td>\n",
       "      <td>8.0</td>\n",
       "      <td>NaN</td>\n",
       "      <td>16.9</td>\n",
       "      <td>21.8</td>\n",
       "      <td>No</td>\n",
       "      <td>No</td>\n",
       "    </tr>\n",
       "    <tr>\n",
       "      <th>1</th>\n",
       "      <td>02-12-2008</td>\n",
       "      <td>Albury</td>\n",
       "      <td>7.4</td>\n",
       "      <td>25.1</td>\n",
       "      <td>0.0</td>\n",
       "      <td>NaN</td>\n",
       "      <td>NaN</td>\n",
       "      <td>WNW</td>\n",
       "      <td>44.0</td>\n",
       "      <td>NNW</td>\n",
       "      <td>...</td>\n",
       "      <td>44.0</td>\n",
       "      <td>25.0</td>\n",
       "      <td>1010.6</td>\n",
       "      <td>1007.8</td>\n",
       "      <td>NaN</td>\n",
       "      <td>NaN</td>\n",
       "      <td>17.2</td>\n",
       "      <td>24.3</td>\n",
       "      <td>No</td>\n",
       "      <td>No</td>\n",
       "    </tr>\n",
       "    <tr>\n",
       "      <th>2</th>\n",
       "      <td>03-12-2008</td>\n",
       "      <td>Albury</td>\n",
       "      <td>12.9</td>\n",
       "      <td>25.7</td>\n",
       "      <td>0.0</td>\n",
       "      <td>NaN</td>\n",
       "      <td>NaN</td>\n",
       "      <td>WSW</td>\n",
       "      <td>46.0</td>\n",
       "      <td>W</td>\n",
       "      <td>...</td>\n",
       "      <td>38.0</td>\n",
       "      <td>30.0</td>\n",
       "      <td>1007.6</td>\n",
       "      <td>1008.7</td>\n",
       "      <td>NaN</td>\n",
       "      <td>2.0</td>\n",
       "      <td>21.0</td>\n",
       "      <td>23.2</td>\n",
       "      <td>No</td>\n",
       "      <td>No</td>\n",
       "    </tr>\n",
       "    <tr>\n",
       "      <th>3</th>\n",
       "      <td>04-12-2008</td>\n",
       "      <td>Albury</td>\n",
       "      <td>9.2</td>\n",
       "      <td>28.0</td>\n",
       "      <td>0.0</td>\n",
       "      <td>NaN</td>\n",
       "      <td>NaN</td>\n",
       "      <td>NE</td>\n",
       "      <td>24.0</td>\n",
       "      <td>SE</td>\n",
       "      <td>...</td>\n",
       "      <td>45.0</td>\n",
       "      <td>16.0</td>\n",
       "      <td>1017.6</td>\n",
       "      <td>1012.8</td>\n",
       "      <td>NaN</td>\n",
       "      <td>NaN</td>\n",
       "      <td>18.1</td>\n",
       "      <td>26.5</td>\n",
       "      <td>No</td>\n",
       "      <td>No</td>\n",
       "    </tr>\n",
       "    <tr>\n",
       "      <th>4</th>\n",
       "      <td>05-12-2008</td>\n",
       "      <td>Albury</td>\n",
       "      <td>17.5</td>\n",
       "      <td>32.3</td>\n",
       "      <td>1.0</td>\n",
       "      <td>NaN</td>\n",
       "      <td>NaN</td>\n",
       "      <td>W</td>\n",
       "      <td>41.0</td>\n",
       "      <td>ENE</td>\n",
       "      <td>...</td>\n",
       "      <td>82.0</td>\n",
       "      <td>33.0</td>\n",
       "      <td>1010.8</td>\n",
       "      <td>1006.0</td>\n",
       "      <td>7.0</td>\n",
       "      <td>8.0</td>\n",
       "      <td>17.8</td>\n",
       "      <td>29.7</td>\n",
       "      <td>No</td>\n",
       "      <td>No</td>\n",
       "    </tr>\n",
       "    <tr>\n",
       "      <th>...</th>\n",
       "      <td>...</td>\n",
       "      <td>...</td>\n",
       "      <td>...</td>\n",
       "      <td>...</td>\n",
       "      <td>...</td>\n",
       "      <td>...</td>\n",
       "      <td>...</td>\n",
       "      <td>...</td>\n",
       "      <td>...</td>\n",
       "      <td>...</td>\n",
       "      <td>...</td>\n",
       "      <td>...</td>\n",
       "      <td>...</td>\n",
       "      <td>...</td>\n",
       "      <td>...</td>\n",
       "      <td>...</td>\n",
       "      <td>...</td>\n",
       "      <td>...</td>\n",
       "      <td>...</td>\n",
       "      <td>...</td>\n",
       "      <td>...</td>\n",
       "    </tr>\n",
       "    <tr>\n",
       "      <th>142188</th>\n",
       "      <td>20-06-2017</td>\n",
       "      <td>Uluru</td>\n",
       "      <td>3.5</td>\n",
       "      <td>21.8</td>\n",
       "      <td>0.0</td>\n",
       "      <td>NaN</td>\n",
       "      <td>NaN</td>\n",
       "      <td>E</td>\n",
       "      <td>31.0</td>\n",
       "      <td>ESE</td>\n",
       "      <td>...</td>\n",
       "      <td>59.0</td>\n",
       "      <td>27.0</td>\n",
       "      <td>1024.7</td>\n",
       "      <td>1021.2</td>\n",
       "      <td>NaN</td>\n",
       "      <td>NaN</td>\n",
       "      <td>9.4</td>\n",
       "      <td>20.9</td>\n",
       "      <td>No</td>\n",
       "      <td>No</td>\n",
       "    </tr>\n",
       "    <tr>\n",
       "      <th>142189</th>\n",
       "      <td>21-06-2017</td>\n",
       "      <td>Uluru</td>\n",
       "      <td>2.8</td>\n",
       "      <td>23.4</td>\n",
       "      <td>0.0</td>\n",
       "      <td>NaN</td>\n",
       "      <td>NaN</td>\n",
       "      <td>E</td>\n",
       "      <td>31.0</td>\n",
       "      <td>SE</td>\n",
       "      <td>...</td>\n",
       "      <td>51.0</td>\n",
       "      <td>24.0</td>\n",
       "      <td>1024.6</td>\n",
       "      <td>1020.3</td>\n",
       "      <td>NaN</td>\n",
       "      <td>NaN</td>\n",
       "      <td>10.1</td>\n",
       "      <td>22.4</td>\n",
       "      <td>No</td>\n",
       "      <td>No</td>\n",
       "    </tr>\n",
       "    <tr>\n",
       "      <th>142190</th>\n",
       "      <td>22-06-2017</td>\n",
       "      <td>Uluru</td>\n",
       "      <td>3.6</td>\n",
       "      <td>25.3</td>\n",
       "      <td>0.0</td>\n",
       "      <td>NaN</td>\n",
       "      <td>NaN</td>\n",
       "      <td>NNW</td>\n",
       "      <td>22.0</td>\n",
       "      <td>SE</td>\n",
       "      <td>...</td>\n",
       "      <td>56.0</td>\n",
       "      <td>21.0</td>\n",
       "      <td>1023.5</td>\n",
       "      <td>1019.1</td>\n",
       "      <td>NaN</td>\n",
       "      <td>NaN</td>\n",
       "      <td>10.9</td>\n",
       "      <td>24.5</td>\n",
       "      <td>No</td>\n",
       "      <td>No</td>\n",
       "    </tr>\n",
       "    <tr>\n",
       "      <th>142191</th>\n",
       "      <td>23-06-2017</td>\n",
       "      <td>Uluru</td>\n",
       "      <td>5.4</td>\n",
       "      <td>26.9</td>\n",
       "      <td>0.0</td>\n",
       "      <td>NaN</td>\n",
       "      <td>NaN</td>\n",
       "      <td>N</td>\n",
       "      <td>37.0</td>\n",
       "      <td>SE</td>\n",
       "      <td>...</td>\n",
       "      <td>53.0</td>\n",
       "      <td>24.0</td>\n",
       "      <td>1021.0</td>\n",
       "      <td>1016.8</td>\n",
       "      <td>NaN</td>\n",
       "      <td>NaN</td>\n",
       "      <td>12.5</td>\n",
       "      <td>26.1</td>\n",
       "      <td>No</td>\n",
       "      <td>No</td>\n",
       "    </tr>\n",
       "    <tr>\n",
       "      <th>142192</th>\n",
       "      <td>24-06-2017</td>\n",
       "      <td>Uluru</td>\n",
       "      <td>7.8</td>\n",
       "      <td>27.0</td>\n",
       "      <td>0.0</td>\n",
       "      <td>NaN</td>\n",
       "      <td>NaN</td>\n",
       "      <td>SE</td>\n",
       "      <td>28.0</td>\n",
       "      <td>SSE</td>\n",
       "      <td>...</td>\n",
       "      <td>51.0</td>\n",
       "      <td>24.0</td>\n",
       "      <td>1019.4</td>\n",
       "      <td>1016.5</td>\n",
       "      <td>3.0</td>\n",
       "      <td>2.0</td>\n",
       "      <td>15.1</td>\n",
       "      <td>26.0</td>\n",
       "      <td>No</td>\n",
       "      <td>No</td>\n",
       "    </tr>\n",
       "  </tbody>\n",
       "</table>\n",
       "<p>142193 rows × 23 columns</p>\n",
       "</div>"
      ],
      "text/plain": [
       "              Date Location  MinTemp  MaxTemp  Rainfall  Evaporation  \\\n",
       "0       01-12-2008   Albury     13.4     22.9       0.6          NaN   \n",
       "1       02-12-2008   Albury      7.4     25.1       0.0          NaN   \n",
       "2       03-12-2008   Albury     12.9     25.7       0.0          NaN   \n",
       "3       04-12-2008   Albury      9.2     28.0       0.0          NaN   \n",
       "4       05-12-2008   Albury     17.5     32.3       1.0          NaN   \n",
       "...            ...      ...      ...      ...       ...          ...   \n",
       "142188  20-06-2017    Uluru      3.5     21.8       0.0          NaN   \n",
       "142189  21-06-2017    Uluru      2.8     23.4       0.0          NaN   \n",
       "142190  22-06-2017    Uluru      3.6     25.3       0.0          NaN   \n",
       "142191  23-06-2017    Uluru      5.4     26.9       0.0          NaN   \n",
       "142192  24-06-2017    Uluru      7.8     27.0       0.0          NaN   \n",
       "\n",
       "        Sunshine WindGustDir  WindGustSpeed WindDir9am  ... Humidity9am  \\\n",
       "0            NaN           W           44.0          W  ...        71.0   \n",
       "1            NaN         WNW           44.0        NNW  ...        44.0   \n",
       "2            NaN         WSW           46.0          W  ...        38.0   \n",
       "3            NaN          NE           24.0         SE  ...        45.0   \n",
       "4            NaN           W           41.0        ENE  ...        82.0   \n",
       "...          ...         ...            ...        ...  ...         ...   \n",
       "142188       NaN           E           31.0        ESE  ...        59.0   \n",
       "142189       NaN           E           31.0         SE  ...        51.0   \n",
       "142190       NaN         NNW           22.0         SE  ...        56.0   \n",
       "142191       NaN           N           37.0         SE  ...        53.0   \n",
       "142192       NaN          SE           28.0        SSE  ...        51.0   \n",
       "\n",
       "        Humidity3pm  Pressure9am  Pressure3pm  Cloud9am  Cloud3pm  Temp9am  \\\n",
       "0              22.0       1007.7       1007.1       8.0       NaN     16.9   \n",
       "1              25.0       1010.6       1007.8       NaN       NaN     17.2   \n",
       "2              30.0       1007.6       1008.7       NaN       2.0     21.0   \n",
       "3              16.0       1017.6       1012.8       NaN       NaN     18.1   \n",
       "4              33.0       1010.8       1006.0       7.0       8.0     17.8   \n",
       "...             ...          ...          ...       ...       ...      ...   \n",
       "142188         27.0       1024.7       1021.2       NaN       NaN      9.4   \n",
       "142189         24.0       1024.6       1020.3       NaN       NaN     10.1   \n",
       "142190         21.0       1023.5       1019.1       NaN       NaN     10.9   \n",
       "142191         24.0       1021.0       1016.8       NaN       NaN     12.5   \n",
       "142192         24.0       1019.4       1016.5       3.0       2.0     15.1   \n",
       "\n",
       "        Temp3pm  RainToday  RainTomorrow  \n",
       "0          21.8         No            No  \n",
       "1          24.3         No            No  \n",
       "2          23.2         No            No  \n",
       "3          26.5         No            No  \n",
       "4          29.7         No            No  \n",
       "...         ...        ...           ...  \n",
       "142188     20.9         No            No  \n",
       "142189     22.4         No            No  \n",
       "142190     24.5         No            No  \n",
       "142191     26.1         No            No  \n",
       "142192     26.0         No            No  \n",
       "\n",
       "[142193 rows x 23 columns]"
      ]
     },
     "execution_count": 2,
     "metadata": {},
     "output_type": "execute_result"
    }
   ],
   "source": [
    "data=pd.read_csv(\"rain.csv\")\n",
    "data"
   ]
  },
  {
   "cell_type": "markdown",
   "id": "c2f94dab",
   "metadata": {},
   "source": [
    "### Describing data"
   ]
  },
  {
   "cell_type": "code",
   "execution_count": 3,
   "id": "bad73055",
   "metadata": {},
   "outputs": [
    {
     "name": "stdout",
     "output_type": "stream",
     "text": [
      "Index(['Date', 'Location', 'MinTemp', 'MaxTemp', 'Rainfall', 'Evaporation',\n",
      "       'Sunshine', 'WindGustDir', 'WindGustSpeed', 'WindDir9am', 'WindDir3pm',\n",
      "       'WindSpeed9am', 'WindSpeed3pm', 'Humidity9am', 'Humidity3pm',\n",
      "       'Pressure9am', 'Pressure3pm', 'Cloud9am', 'Cloud3pm', 'Temp9am',\n",
      "       'Temp3pm', 'RainToday', 'RainTomorrow'],\n",
      "      dtype='object')\n",
      "<class 'pandas.core.frame.DataFrame'>\n",
      "RangeIndex: 142193 entries, 0 to 142192\n",
      "Data columns (total 23 columns):\n",
      " #   Column         Non-Null Count   Dtype  \n",
      "---  ------         --------------   -----  \n",
      " 0   Date           142193 non-null  object \n",
      " 1   Location       142193 non-null  object \n",
      " 2   MinTemp        141556 non-null  float64\n",
      " 3   MaxTemp        141871 non-null  float64\n",
      " 4   Rainfall       140787 non-null  float64\n",
      " 5   Evaporation    81350 non-null   float64\n",
      " 6   Sunshine       74377 non-null   float64\n",
      " 7   WindGustDir    132863 non-null  object \n",
      " 8   WindGustSpeed  132923 non-null  float64\n",
      " 9   WindDir9am     132180 non-null  object \n",
      " 10  WindDir3pm     138415 non-null  object \n",
      " 11  WindSpeed9am   140845 non-null  float64\n",
      " 12  WindSpeed3pm   139563 non-null  float64\n",
      " 13  Humidity9am    140419 non-null  float64\n",
      " 14  Humidity3pm    138583 non-null  float64\n",
      " 15  Pressure9am    128179 non-null  float64\n",
      " 16  Pressure3pm    128212 non-null  float64\n",
      " 17  Cloud9am       88536 non-null   float64\n",
      " 18  Cloud3pm       85099 non-null   float64\n",
      " 19  Temp9am        141289 non-null  float64\n",
      " 20  Temp3pm        139467 non-null  float64\n",
      " 21  RainToday      140787 non-null  object \n",
      " 22  RainTomorrow   142193 non-null  object \n",
      "dtypes: float64(16), object(7)\n",
      "memory usage: 25.0+ MB\n",
      "None\n",
      "             MinTemp        MaxTemp       Rainfall   Evaporation  \\\n",
      "count  141556.000000  141871.000000  140787.000000  81350.000000   \n",
      "mean       12.186400      23.226784       2.349974      5.469824   \n",
      "std         6.403283       7.117618       8.465173      4.188537   \n",
      "min        -8.500000      -4.800000       0.000000      0.000000   \n",
      "25%         7.600000      17.900000       0.000000      2.600000   \n",
      "50%        12.000000      22.600000       0.000000      4.800000   \n",
      "75%        16.800000      28.200000       0.800000      7.400000   \n",
      "max        33.900000      48.100000     371.000000    145.000000   \n",
      "\n",
      "           Sunshine  WindGustSpeed   WindSpeed9am   WindSpeed3pm  \\\n",
      "count  74377.000000  132923.000000  140845.000000  139563.000000   \n",
      "mean       7.624853      39.984292      14.001988      18.637576   \n",
      "std        3.781525      13.588801       8.893337       8.803345   \n",
      "min        0.000000       6.000000       0.000000       0.000000   \n",
      "25%        4.900000      31.000000       7.000000      13.000000   \n",
      "50%        8.500000      39.000000      13.000000      19.000000   \n",
      "75%       10.600000      48.000000      19.000000      24.000000   \n",
      "max       14.500000     135.000000     130.000000      87.000000   \n",
      "\n",
      "         Humidity9am    Humidity3pm    Pressure9am    Pressure3pm  \\\n",
      "count  140419.000000  138583.000000  128179.000000  128212.000000   \n",
      "mean       68.843810      51.482606    1017.653758    1015.258204   \n",
      "std        19.051293      20.797772       7.105476       7.036677   \n",
      "min         0.000000       0.000000     980.500000     977.100000   \n",
      "25%        57.000000      37.000000    1012.900000    1010.400000   \n",
      "50%        70.000000      52.000000    1017.600000    1015.200000   \n",
      "75%        83.000000      66.000000    1022.400000    1020.000000   \n",
      "max       100.000000     100.000000    1041.000000    1039.600000   \n",
      "\n",
      "           Cloud9am      Cloud3pm        Temp9am        Temp3pm  \n",
      "count  88536.000000  85099.000000  141289.000000  139467.000000  \n",
      "mean       4.437189      4.503167      16.987509      21.687235  \n",
      "std        2.887016      2.720633       6.492838       6.937594  \n",
      "min        0.000000      0.000000      -7.200000      -5.400000  \n",
      "25%        1.000000      2.000000      12.300000      16.600000  \n",
      "50%        5.000000      5.000000      16.700000      21.100000  \n",
      "75%        7.000000      7.000000      21.600000      26.400000  \n",
      "max        9.000000      9.000000      40.200000      46.700000  \n"
     ]
    }
   ],
   "source": [
    "print(data.columns)\n",
    "print(data.info())\n",
    "print(data.describe())"
   ]
  },
  {
   "cell_type": "markdown",
   "id": "03e11c9f",
   "metadata": {},
   "source": [
    "### Feature Engineering"
   ]
  },
  {
   "cell_type": "markdown",
   "id": "34f9fdab",
   "metadata": {},
   "source": [
    "        The aim of feature engineering is to prepare an input data set that best fits the machine learning algorithm as well as to enhance the performance of machine learning models."
   ]
  },
  {
   "cell_type": "code",
   "execution_count": 4,
   "id": "c823c287",
   "metadata": {},
   "outputs": [
    {
     "data": {
      "text/html": [
       "<div>\n",
       "<style scoped>\n",
       "    .dataframe tbody tr th:only-of-type {\n",
       "        vertical-align: middle;\n",
       "    }\n",
       "\n",
       "    .dataframe tbody tr th {\n",
       "        vertical-align: top;\n",
       "    }\n",
       "\n",
       "    .dataframe thead th {\n",
       "        text-align: right;\n",
       "    }\n",
       "</style>\n",
       "<table border=\"1\" class=\"dataframe\">\n",
       "  <thead>\n",
       "    <tr style=\"text-align: right;\">\n",
       "      <th></th>\n",
       "      <th>MinTemp</th>\n",
       "      <th>MaxTemp</th>\n",
       "      <th>WindDir</th>\n",
       "      <th>WindSpeed</th>\n",
       "      <th>Humidity</th>\n",
       "      <th>Pressure</th>\n",
       "      <th>RainToday</th>\n",
       "      <th>RainTomorrow</th>\n",
       "    </tr>\n",
       "  </thead>\n",
       "  <tbody>\n",
       "    <tr>\n",
       "      <th>0</th>\n",
       "      <td>13.4</td>\n",
       "      <td>22.9</td>\n",
       "      <td>WNW</td>\n",
       "      <td>20.0</td>\n",
       "      <td>71.0</td>\n",
       "      <td>1007.7</td>\n",
       "      <td>No</td>\n",
       "      <td>No</td>\n",
       "    </tr>\n",
       "    <tr>\n",
       "      <th>1</th>\n",
       "      <td>7.4</td>\n",
       "      <td>25.1</td>\n",
       "      <td>WSW</td>\n",
       "      <td>4.0</td>\n",
       "      <td>44.0</td>\n",
       "      <td>1010.6</td>\n",
       "      <td>No</td>\n",
       "      <td>No</td>\n",
       "    </tr>\n",
       "    <tr>\n",
       "      <th>2</th>\n",
       "      <td>12.9</td>\n",
       "      <td>25.7</td>\n",
       "      <td>WSW</td>\n",
       "      <td>19.0</td>\n",
       "      <td>38.0</td>\n",
       "      <td>1007.6</td>\n",
       "      <td>No</td>\n",
       "      <td>No</td>\n",
       "    </tr>\n",
       "    <tr>\n",
       "      <th>3</th>\n",
       "      <td>9.2</td>\n",
       "      <td>28.0</td>\n",
       "      <td>E</td>\n",
       "      <td>11.0</td>\n",
       "      <td>45.0</td>\n",
       "      <td>1017.6</td>\n",
       "      <td>No</td>\n",
       "      <td>No</td>\n",
       "    </tr>\n",
       "    <tr>\n",
       "      <th>4</th>\n",
       "      <td>17.5</td>\n",
       "      <td>32.3</td>\n",
       "      <td>NW</td>\n",
       "      <td>7.0</td>\n",
       "      <td>82.0</td>\n",
       "      <td>1010.8</td>\n",
       "      <td>No</td>\n",
       "      <td>No</td>\n",
       "    </tr>\n",
       "    <tr>\n",
       "      <th>...</th>\n",
       "      <td>...</td>\n",
       "      <td>...</td>\n",
       "      <td>...</td>\n",
       "      <td>...</td>\n",
       "      <td>...</td>\n",
       "      <td>...</td>\n",
       "      <td>...</td>\n",
       "      <td>...</td>\n",
       "    </tr>\n",
       "    <tr>\n",
       "      <th>142188</th>\n",
       "      <td>3.5</td>\n",
       "      <td>21.8</td>\n",
       "      <td>E</td>\n",
       "      <td>15.0</td>\n",
       "      <td>59.0</td>\n",
       "      <td>1024.7</td>\n",
       "      <td>No</td>\n",
       "      <td>No</td>\n",
       "    </tr>\n",
       "    <tr>\n",
       "      <th>142189</th>\n",
       "      <td>2.8</td>\n",
       "      <td>23.4</td>\n",
       "      <td>ENE</td>\n",
       "      <td>13.0</td>\n",
       "      <td>51.0</td>\n",
       "      <td>1024.6</td>\n",
       "      <td>No</td>\n",
       "      <td>No</td>\n",
       "    </tr>\n",
       "    <tr>\n",
       "      <th>142190</th>\n",
       "      <td>3.6</td>\n",
       "      <td>25.3</td>\n",
       "      <td>N</td>\n",
       "      <td>13.0</td>\n",
       "      <td>56.0</td>\n",
       "      <td>1023.5</td>\n",
       "      <td>No</td>\n",
       "      <td>No</td>\n",
       "    </tr>\n",
       "    <tr>\n",
       "      <th>142191</th>\n",
       "      <td>5.4</td>\n",
       "      <td>26.9</td>\n",
       "      <td>WNW</td>\n",
       "      <td>9.0</td>\n",
       "      <td>53.0</td>\n",
       "      <td>1021.0</td>\n",
       "      <td>No</td>\n",
       "      <td>No</td>\n",
       "    </tr>\n",
       "    <tr>\n",
       "      <th>142192</th>\n",
       "      <td>7.8</td>\n",
       "      <td>27.0</td>\n",
       "      <td>N</td>\n",
       "      <td>13.0</td>\n",
       "      <td>51.0</td>\n",
       "      <td>1019.4</td>\n",
       "      <td>No</td>\n",
       "      <td>No</td>\n",
       "    </tr>\n",
       "  </tbody>\n",
       "</table>\n",
       "<p>142193 rows × 8 columns</p>\n",
       "</div>"
      ],
      "text/plain": [
       "        MinTemp  MaxTemp WindDir  WindSpeed  Humidity  Pressure RainToday  \\\n",
       "0          13.4     22.9     WNW       20.0      71.0    1007.7        No   \n",
       "1           7.4     25.1     WSW        4.0      44.0    1010.6        No   \n",
       "2          12.9     25.7     WSW       19.0      38.0    1007.6        No   \n",
       "3           9.2     28.0       E       11.0      45.0    1017.6        No   \n",
       "4          17.5     32.3      NW        7.0      82.0    1010.8        No   \n",
       "...         ...      ...     ...        ...       ...       ...       ...   \n",
       "142188      3.5     21.8       E       15.0      59.0    1024.7        No   \n",
       "142189      2.8     23.4     ENE       13.0      51.0    1024.6        No   \n",
       "142190      3.6     25.3       N       13.0      56.0    1023.5        No   \n",
       "142191      5.4     26.9     WNW        9.0      53.0    1021.0        No   \n",
       "142192      7.8     27.0       N       13.0      51.0    1019.4        No   \n",
       "\n",
       "       RainTomorrow  \n",
       "0                No  \n",
       "1                No  \n",
       "2                No  \n",
       "3                No  \n",
       "4                No  \n",
       "...             ...  \n",
       "142188           No  \n",
       "142189           No  \n",
       "142190           No  \n",
       "142191           No  \n",
       "142192           No  \n",
       "\n",
       "[142193 rows x 8 columns]"
      ]
     },
     "execution_count": 4,
     "metadata": {},
     "output_type": "execute_result"
    }
   ],
   "source": [
    "dataNew=data[[\"MinTemp\",\"MaxTemp\",\"WindDir3pm\",\"WindSpeed9am\",\"Humidity9am\",\"Pressure9am\",\"RainToday\",\"RainTomorrow\"]].copy()\n",
    "dataNew.columns=[\"MinTemp\",\"MaxTemp\",\"WindDir\",\"WindSpeed\",\"Humidity\",\"Pressure\",\"RainToday\",\"RainTomorrow\"]\n",
    "dataNew"
   ]
  },
  {
   "cell_type": "markdown",
   "id": "92cef23b",
   "metadata": {},
   "source": [
    "### null synthesis"
   ]
  },
  {
   "cell_type": "code",
   "execution_count": 25,
   "id": "d6fca4b2",
   "metadata": {},
   "outputs": [
    {
     "data": {
      "text/plain": [
       "MinTemp         0\n",
       "MaxTemp         0\n",
       "WindDir         0\n",
       "WindSpeed       0\n",
       "Humidity        0\n",
       "Pressure        0\n",
       "RainToday       0\n",
       "RainTomorrow    0\n",
       "dtype: int64"
      ]
     },
     "execution_count": 25,
     "metadata": {},
     "output_type": "execute_result"
    }
   ],
   "source": [
    "dataNew.isnull().sum()\n"
   ]
  },
  {
   "cell_type": "code",
   "execution_count": 26,
   "id": "59d982eb",
   "metadata": {},
   "outputs": [],
   "source": [
    "dataNew.dropna(inplace=True)"
   ]
  },
  {
   "cell_type": "code",
   "execution_count": 7,
   "id": "221d7fae",
   "metadata": {},
   "outputs": [
    {
     "data": {
      "text/plain": [
       "MinTemp         0\n",
       "MaxTemp         0\n",
       "WindDir         0\n",
       "WindSpeed       0\n",
       "Humidity        0\n",
       "Pressure        0\n",
       "RainToday       0\n",
       "RainTomorrow    0\n",
       "dtype: int64"
      ]
     },
     "execution_count": 7,
     "metadata": {},
     "output_type": "execute_result"
    }
   ],
   "source": [
    "dataNew.isnull().sum()"
   ]
  },
  {
   "cell_type": "markdown",
   "id": "a9bb469e",
   "metadata": {},
   "source": [
    "#### inputs and outputs"
   ]
  },
  {
   "cell_type": "code",
   "execution_count": 8,
   "id": "40a41773",
   "metadata": {},
   "outputs": [],
   "source": [
    "x=dataNew.iloc[:,:-1]\n",
    "y=dataNew.iloc[:,-1]"
   ]
  },
  {
   "cell_type": "code",
   "execution_count": 9,
   "id": "4e8c32a2",
   "metadata": {},
   "outputs": [
    {
     "data": {
      "text/plain": [
       "(        MinTemp  MaxTemp WindDir  WindSpeed  Humidity  Pressure RainToday\n",
       " 0          13.4     22.9     WNW       20.0      71.0    1007.7        No\n",
       " 1           7.4     25.1     WSW        4.0      44.0    1010.6        No\n",
       " 2          12.9     25.7     WSW       19.0      38.0    1007.6        No\n",
       " 3           9.2     28.0       E       11.0      45.0    1017.6        No\n",
       " 4          17.5     32.3      NW        7.0      82.0    1010.8        No\n",
       " ...         ...      ...     ...        ...       ...       ...       ...\n",
       " 142188      3.5     21.8       E       15.0      59.0    1024.7        No\n",
       " 142189      2.8     23.4     ENE       13.0      51.0    1024.6        No\n",
       " 142190      3.6     25.3       N       13.0      56.0    1023.5        No\n",
       " 142191      5.4     26.9     WNW        9.0      53.0    1021.0        No\n",
       " 142192      7.8     27.0       N       13.0      51.0    1019.4        No\n",
       " \n",
       " [124205 rows x 7 columns],\n",
       " 0         No\n",
       " 1         No\n",
       " 2         No\n",
       " 3         No\n",
       " 4         No\n",
       "           ..\n",
       " 142188    No\n",
       " 142189    No\n",
       " 142190    No\n",
       " 142191    No\n",
       " 142192    No\n",
       " Name: RainTomorrow, Length: 124205, dtype: object)"
      ]
     },
     "execution_count": 9,
     "metadata": {},
     "output_type": "execute_result"
    }
   ],
   "source": [
    "x,y"
   ]
  },
  {
   "cell_type": "markdown",
   "id": "a145e62b",
   "metadata": {},
   "source": [
    "#### catogorical to numericals"
   ]
  },
  {
   "cell_type": "code",
   "execution_count": 10,
   "id": "5f7c70f8",
   "metadata": {},
   "outputs": [],
   "source": [
    "from sklearn.preprocessing import LabelEncoder\n",
    "l1=LabelEncoder()\n",
    "l2=LabelEncoder()\n",
    "l3=LabelEncoder()\n",
    "x[\"WindDir\"]=l1.fit_transform(x[\"WindDir\"])\n",
    "x[\"RainToday\"]=l2.fit_transform(x[\"RainToday\"])\n",
    "y= l3.fit_transform(y)"
   ]
  },
  {
   "cell_type": "code",
   "execution_count": 11,
   "id": "7cdc5d6f",
   "metadata": {},
   "outputs": [
    {
     "name": "stdout",
     "output_type": "stream",
     "text": [
      "Label encoding for WindDir\n",
      "0 --> E\n",
      "1 --> ENE\n",
      "2 --> ESE\n",
      "3 --> N\n",
      "4 --> NE\n",
      "5 --> NNE\n",
      "6 --> NNW\n",
      "7 --> NW\n",
      "8 --> S\n",
      "9 --> SE\n",
      "10 --> SSE\n",
      "11 --> SSW\n",
      "12 --> SW\n",
      "13 --> W\n",
      "14 --> WNW\n",
      "15 --> WSW\n",
      "label encoding for Raintoday\n",
      "0 --> No\n",
      "1 --> Yes\n",
      "label encoding for Raintomorrow\n",
      "0 --> No\n",
      "1 --> Yes\n"
     ]
    }
   ],
   "source": [
    "k=0\n",
    "print(\"Label encoding for WindDir\")\n",
    "for i in l1.classes_:\n",
    "    print(k,\"-->\",i)\n",
    "    k+=1\n",
    "k=0\n",
    "print(\"label encoding for Raintoday\")\n",
    "for i in l2.classes_:\n",
    "    print(k,\"-->\",i)\n",
    "    k+=1\n",
    "k=0\n",
    "print(\"label encoding for Raintomorrow\")\n",
    "for i in l3.classes_:\n",
    "    print(k,\"-->\",i)\n",
    "    k+=1"
   ]
  },
  {
   "cell_type": "markdown",
   "id": "a0bed3d5",
   "metadata": {},
   "source": [
    "### data Segregation"
   ]
  },
  {
   "cell_type": "code",
   "execution_count": 12,
   "id": "3898a677",
   "metadata": {},
   "outputs": [],
   "source": [
    "from sklearn.model_selection import train_test_split\n",
    "x_train,x_test,y_train,y_test=train_test_split(x,y,test_size=0.25,random_state=0)"
   ]
  },
  {
   "cell_type": "code",
   "execution_count": 13,
   "id": "6eed03e5",
   "metadata": {},
   "outputs": [
    {
     "data": {
      "text/plain": [
       "((93153, 7), (31052, 7))"
      ]
     },
     "execution_count": 13,
     "metadata": {},
     "output_type": "execute_result"
    }
   ],
   "source": [
    "x_train.shape,x_test.shape"
   ]
  },
  {
   "cell_type": "markdown",
   "id": "7fd8b6eb",
   "metadata": {},
   "source": [
    "## using Extra trees classifier"
   ]
  },
  {
   "cell_type": "code",
   "execution_count": 14,
   "id": "7d5ef42d",
   "metadata": {},
   "outputs": [
    {
     "data": {
      "text/plain": [
       "ExtraTreesClassifier(class_weight='balanced', criterion='entropy', max_depth=23,\n",
       "                     max_features='sqrt')"
      ]
     },
     "execution_count": 14,
     "metadata": {},
     "output_type": "execute_result"
    }
   ],
   "source": [
    "from sklearn.ensemble import ExtraTreesClassifier\n",
    "model=ExtraTreesClassifier(max_depth=23,n_estimators=100,min_samples_split=2,criterion=\"entropy\",class_weight=\"balanced\",max_features='sqrt')\n",
    "model.fit(x_train,y_train)"
   ]
  },
  {
   "cell_type": "markdown",
   "id": "d6ad22ae",
   "metadata": {},
   "source": [
    "#### predicting the test results"
   ]
  },
  {
   "cell_type": "code",
   "execution_count": 15,
   "id": "7836100d",
   "metadata": {},
   "outputs": [],
   "source": [
    "y_pred=model.predict(x_test)"
   ]
  },
  {
   "cell_type": "markdown",
   "id": "b3562c47",
   "metadata": {},
   "source": [
    "#### visualize classfication report"
   ]
  },
  {
   "cell_type": "code",
   "execution_count": 16,
   "id": "cae1d77a",
   "metadata": {},
   "outputs": [
    {
     "name": "stdout",
     "output_type": "stream",
     "text": [
      "              precision    recall  f1-score   support\n",
      "\n",
      "           0       0.87      0.89      0.88     24180\n",
      "           1       0.58      0.51      0.54      6872\n",
      "\n",
      "    accuracy                           0.81     31052\n",
      "   macro avg       0.72      0.70      0.71     31052\n",
      "weighted avg       0.80      0.81      0.80     31052\n",
      "\n"
     ]
    }
   ],
   "source": [
    "from sklearn import metrics\n",
    "print(metrics.classification_report(y_test,y_pred))"
   ]
  },
  {
   "cell_type": "markdown",
   "id": "fa8d4b00",
   "metadata": {},
   "source": [
    "#### visualize confusion matrix"
   ]
  },
  {
   "cell_type": "code",
   "execution_count": 17,
   "id": "25ef635b",
   "metadata": {},
   "outputs": [
    {
     "name": "stdout",
     "output_type": "stream",
     "text": [
      "       0     1\n",
      "0  21588  2592\n",
      "1   3364  3508\n"
     ]
    }
   ],
   "source": [
    "print(pd.DataFrame(metrics.confusion_matrix(y_test,y_pred),columns=(0,1)))"
   ]
  },
  {
   "cell_type": "markdown",
   "id": "52ab466f",
   "metadata": {},
   "source": [
    "#### accuracy score"
   ]
  },
  {
   "cell_type": "code",
   "execution_count": 18,
   "id": "cd0c689d",
   "metadata": {},
   "outputs": [
    {
     "name": "stdout",
     "output_type": "stream",
     "text": [
      "80.8192709004251\n"
     ]
    }
   ],
   "source": [
    "print(metrics.accuracy_score(y_test,y_pred)*100)"
   ]
  },
  {
   "cell_type": "markdown",
   "id": "8465ca44",
   "metadata": {},
   "source": [
    "#### feature importances on output"
   ]
  },
  {
   "cell_type": "code",
   "execution_count": 19,
   "id": "b043391c",
   "metadata": {},
   "outputs": [
    {
     "data": {
      "text/plain": [
       "MinTemp      0.150469\n",
       "MaxTemp      0.158771\n",
       "WindDir      0.099614\n",
       "WindSpeed    0.106114\n",
       "Humidity     0.178205\n",
       "Pressure     0.198687\n",
       "RainToday    0.108140\n",
       "dtype: float64"
      ]
     },
     "execution_count": 19,
     "metadata": {},
     "output_type": "execute_result"
    }
   ],
   "source": [
    "pd.Series(model.feature_importances_,index=x.columns)"
   ]
  },
  {
   "cell_type": "markdown",
   "id": "ce78b137",
   "metadata": {},
   "source": [
    "#### predict with real world data"
   ]
  },
  {
   "cell_type": "code",
   "execution_count": 20,
   "id": "2e322e6b",
   "metadata": {},
   "outputs": [
    {
     "name": "stdout",
     "output_type": "stream",
     "text": [
      "Enter the value for MinTemp:21\n",
      "Enter the value for MaxTemp:35\n",
      "Enter the value for WindDirection['E' 'ENE' 'ESE' 'N' 'NE' 'NNE' 'NNW' 'NW' 'S' 'SE' 'SSE' 'SSW' 'SW' 'W'\n",
      " 'WNW' 'WSW']:N\n",
      "Enter the value for WindSpeed:12\n",
      "Enter the value for Humidity:17\n",
      "Enter the value for Pressure:11\n",
      "Enter value for RainToday['No' 'Yes']:Yes\n"
     ]
    },
    {
     "data": {
      "text/html": [
       "<div>\n",
       "<style scoped>\n",
       "    .dataframe tbody tr th:only-of-type {\n",
       "        vertical-align: middle;\n",
       "    }\n",
       "\n",
       "    .dataframe tbody tr th {\n",
       "        vertical-align: top;\n",
       "    }\n",
       "\n",
       "    .dataframe thead th {\n",
       "        text-align: right;\n",
       "    }\n",
       "</style>\n",
       "<table border=\"1\" class=\"dataframe\">\n",
       "  <thead>\n",
       "    <tr style=\"text-align: right;\">\n",
       "      <th></th>\n",
       "      <th>MinTemp</th>\n",
       "      <th>MaxTemp</th>\n",
       "      <th>WindDir</th>\n",
       "      <th>WindSpeed</th>\n",
       "      <th>Humidity</th>\n",
       "      <th>Pressure</th>\n",
       "      <th>RainToday</th>\n",
       "    </tr>\n",
       "  </thead>\n",
       "  <tbody>\n",
       "    <tr>\n",
       "      <th>0</th>\n",
       "      <td>21.0</td>\n",
       "      <td>35.0</td>\n",
       "      <td>3.0</td>\n",
       "      <td>12.0</td>\n",
       "      <td>17.0</td>\n",
       "      <td>11.0</td>\n",
       "      <td>1.0</td>\n",
       "    </tr>\n",
       "  </tbody>\n",
       "</table>\n",
       "</div>"
      ],
      "text/plain": [
       "   MinTemp  MaxTemp  WindDir  WindSpeed  Humidity  Pressure  RainToday\n",
       "0     21.0     35.0      3.0       12.0      17.0      11.0        1.0"
      ]
     },
     "execution_count": 20,
     "metadata": {},
     "output_type": "execute_result"
    }
   ],
   "source": [
    "a1=float(input(\"Enter the value for MinTemp:\"))\n",
    "a2=float(input(\"Enter the value for MaxTemp:\"))\n",
    "a3=input(\"Enter the value for WindDirection{}:\".format(l1.classes_))\n",
    "a3=l1.transform([a3])[0]\n",
    "a4=float(input(\"Enter the value for WindSpeed:\"))\n",
    "a5=float(input(\"Enter the value for Humidity:\"))\n",
    "a6=float(input(\"Enter the value for Pressure:\"))\n",
    "a7=input(\"Enter value for RainToday{}:\".format(l2.classes_))\n",
    "a7=l2.transform([a7])[0]\n",
    "datapoint=pd.DataFrame(np.array([[a1,a2,a3,a4,a5,a6,a7]]),columns=x.columns)\n",
    "datapoint"
   ]
  },
  {
   "cell_type": "code",
   "execution_count": 21,
   "id": "acccd5ac",
   "metadata": {},
   "outputs": [
    {
     "name": "stdout",
     "output_type": "stream",
     "text": [
      " there will be No RainFall Tomorrow\n",
      "Prediction probability:\n"
     ]
    },
    {
     "data": {
      "text/html": [
       "<div>\n",
       "<style scoped>\n",
       "    .dataframe tbody tr th:only-of-type {\n",
       "        vertical-align: middle;\n",
       "    }\n",
       "\n",
       "    .dataframe tbody tr th {\n",
       "        vertical-align: top;\n",
       "    }\n",
       "\n",
       "    .dataframe thead th {\n",
       "        text-align: right;\n",
       "    }\n",
       "</style>\n",
       "<table border=\"1\" class=\"dataframe\">\n",
       "  <thead>\n",
       "    <tr style=\"text-align: right;\">\n",
       "      <th></th>\n",
       "      <th>No</th>\n",
       "      <th>Yes</th>\n",
       "    </tr>\n",
       "  </thead>\n",
       "  <tbody>\n",
       "    <tr>\n",
       "      <th>0</th>\n",
       "      <td>0.67</td>\n",
       "      <td>0.33</td>\n",
       "    </tr>\n",
       "  </tbody>\n",
       "</table>\n",
       "</div>"
      ],
      "text/plain": [
       "     No   Yes\n",
       "0  0.67  0.33"
      ]
     },
     "execution_count": 21,
     "metadata": {},
     "output_type": "execute_result"
    }
   ],
   "source": [
    "\n",
    "res=model.predict(datapoint)\n",
    "if l3.inverse_transform(res)[0] ==\"No\":\n",
    "    print(\" there will be No RainFall Tomorrow\")\n",
    "else:\n",
    "    print(\" there will be Rainfall Tomorrow\")\n",
    "print(\"Prediction probability:\")\n",
    "pd.DataFrame(model.predict_proba(datapoint),columns=[\"No\",\"Yes\"])"
   ]
  },
  {
   "cell_type": "code",
   "execution_count": null,
   "id": "d572cf13",
   "metadata": {},
   "outputs": [],
   "source": []
  }
 ],
 "metadata": {
  "kernelspec": {
   "display_name": "Python 3 (ipykernel)",
   "language": "python",
   "name": "python3"
  },
  "language_info": {
   "codemirror_mode": {
    "name": "ipython",
    "version": 3
   },
   "file_extension": ".py",
   "mimetype": "text/x-python",
   "name": "python",
   "nbconvert_exporter": "python",
   "pygments_lexer": "ipython3",
   "version": "3.9.13"
  }
 },
 "nbformat": 4,
 "nbformat_minor": 5
}
